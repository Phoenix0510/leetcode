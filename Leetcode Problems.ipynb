{
 "cells": [
  {
   "cell_type": "raw",
   "metadata": {},
   "source": [
    "70. Climbing Stairs\n",
    "\n",
    "You are climbing a stair case. It takes n steps to reach to the top.\n",
    "\n",
    "Each time you can either climb 1 or 2 steps. In how many distinct ways can you climb to the top?\n",
    "\n",
    "Example 1:\n",
    "Input: 2\n",
    "Output: 2\n",
    "Explanation: There are two ways to climb to the top.\n",
    "1. 1 step + 1 step\n",
    "2. 2 steps\n",
    "\n",
    "Example 2:\n",
    "Input: 3\n",
    "Output: 3\n",
    "Explanation: There are three ways to climb to the top.\n",
    "1. 1 step + 1 step + 1 step\n",
    "2. 1 step + 2 steps\n",
    "3. 2 steps + 1 step\n",
    " \n",
    "\n",
    "Constraints:\n",
    "\n",
    "1 <= n <= 45"
   ]
  },
  {
   "cell_type": "code",
   "execution_count": 76,
   "metadata": {},
   "outputs": [],
   "source": [
    "class Solution:\n",
    "    #动态规划解法\n",
    "    def climbStairs(self, n: int) -> int:\n",
    "        res = [0] * (n+1)\n",
    "#         print(res)\n",
    "        res[0] = 1\n",
    "        res[1] = 1\n",
    "        for i in range(2, n + 1):\n",
    "#             print(i)\n",
    "            res[i] = res[i - 1] + res[i - 2]\n",
    "            i += 1\n",
    "#             print(res[n])\n",
    "        return res[n]\n",
    "                    "
   ]
  },
  {
   "cell_type": "code",
   "execution_count": 77,
   "metadata": {},
   "outputs": [
    {
     "name": "stdout",
     "output_type": "stream",
     "text": [
      "8\n"
     ]
    }
   ],
   "source": [
    "s = Solution().climbStairs(5)\n",
    "print(s)"
   ]
  },
  {
   "cell_type": "code",
   "execution_count": 78,
   "metadata": {},
   "outputs": [],
   "source": [
    "class Solution1:\n",
    "    #递归解法-记忆化搜索\n",
    "    def climbStairs(self, n: int) -> int:\n",
    "        res = [-1] * (n+1)\n",
    "        if n == 1:\n",
    "            return 1\n",
    "        if n == 2:\n",
    "            return 2\n",
    "        if res[n] == -1:\n",
    "            res[n] = self.climbStairs(n-1) + self.climbStairs(n-2)\n",
    "    \n",
    "        return res[n]\n",
    "                    "
   ]
  },
  {
   "cell_type": "code",
   "execution_count": 60,
   "metadata": {},
   "outputs": [
    {
     "name": "stdout",
     "output_type": "stream",
     "text": [
      "8\n"
     ]
    }
   ],
   "source": [
    "s1 = Solution1().climbStairs(5)\n",
    "print(s)"
   ]
  },
  {
   "cell_type": "raw",
   "metadata": {},
   "source": [
    "120. Triangle\n",
    "\n",
    "Given a triangle, find the minimum path sum from top to bottom. Each step you may move to adjacent numbers on the row below.\n",
    "\n",
    "For example, given the following triangle\n",
    "\n",
    "[\n",
    "     [2],\n",
    "    [3,4],\n",
    "   [6,5,7],\n",
    "  [4,1,8,3]\n",
    "]\n",
    "The minimum path sum from top to bottom is 11 (i.e., 2 + 3 + 5 + 1 = 11).\n",
    "\n",
    "Note:\n",
    "\n",
    "Bonus point if you are able to do this using only O(n) extra space, where n is the total number of rows in the triangle."
   ]
  },
  {
   "cell_type": "code",
   "execution_count": 59,
   "metadata": {},
   "outputs": [],
   "source": [
    "from typing import List\n",
    "\n",
    "class Solution:\n",
    "    #原始方法-递归 递归函数通过改变传参方式进行重写 --> todo\n",
    "    def minimumTotal(self, triangle: List[List[int]]) -> int:\n",
    "        if len(triangle) == 1 :\n",
    "            return triangle[0][0]\n",
    "#         print(triangle[-1])\n",
    "        list1 = [x[1:] for x in triangle]\n",
    "        list1.remove([])\n",
    "        list2 = [x[:-1] for x in triangle]\n",
    "        list2.remove([])\n",
    "#         print(list1)\n",
    "#         print(list2)\n",
    "        \n",
    "        return triangle[0][0] + min(self.minimumTotal(list1), self.minimumTotal(list2))"
   ]
  },
  {
   "cell_type": "code",
   "execution_count": 160,
   "metadata": {},
   "outputs": [],
   "source": [
    "class Solution:\n",
    "    #优化-动态规划\n",
    "    def minimumTotal(self, triangle: List[List[int]]) -> int:\n",
    "        res = triangle[-1]\n",
    "#         print(triangle[-1])\n",
    "        for i in range(len(triangle) - 2, -1, -1):\n",
    "            for j in range(i + 1):\n",
    "                res[j] = min(res[j], res[j + 1]) + triangle[i][j]\n",
    "#         n = len(triangle)\n",
    "#         dp = triangle[-1]\n",
    "#         for layer in range(n - 2, -1, -1):\n",
    "#             for i in range(layer + 1):\n",
    "#                 dp[i] = min(dp[i], dp[i + 1]) + triangle[layer][i]\n",
    "#         return dp[0]\n",
    "        return res[0]"
   ]
  },
  {
   "cell_type": "code",
   "execution_count": 129,
   "metadata": {},
   "outputs": [],
   "source": [
    "\n",
    "class Solution:\n",
    "    #优化-记忆化搜索 不正确，待优化\n",
    "    def minimumTotal(self, triangle: List[List[int]]) -> int:\n",
    "        res = [0] * (len(triangle) + 1)\n",
    "        if len(triangle) == 1 :\n",
    "            res[0] = triangle[0][0]\n",
    "        list1 = [x[1:] for x in triangle]\n",
    "        list1.remove([])\n",
    "        list2 = [x[:-1] for x in triangle]\n",
    "        list2.remove([])\n",
    "        print(list1)\n",
    "        print(list2)\n",
    "        if res[len(triangle)] == 0 and len(triangle) != 0:\n",
    "            res[len(triangle)] = res[0] + min(self.minimumTotal(list1), self.minimumTotal(list2))\n",
    "            \n",
    "        return res[len(triangle)]"
   ]
  },
  {
   "cell_type": "code",
   "execution_count": 161,
   "metadata": {},
   "outputs": [],
   "source": [
    "s = Solution().minimumTotal(\n",
    "    [\n",
    "         [2],\n",
    "        [3,4],\n",
    "       [6,5,7],\n",
    "      [4,1,8,3]\n",
    "    ]\n",
    ")"
   ]
  },
  {
   "cell_type": "code",
   "execution_count": 162,
   "metadata": {},
   "outputs": [
    {
     "name": "stdout",
     "output_type": "stream",
     "text": [
      "11\n"
     ]
    }
   ],
   "source": [
    "print(s)"
   ]
  },
  {
   "cell_type": "raw",
   "metadata": {},
   "source": [
    "64. Minimum Path Sum\n",
    "\n",
    "Given a m x n grid filled with non-negative numbers, find a path from top left to bottom right which minimizes the sum of all numbers along its path.\n",
    "\n",
    "Note: You can only move either down or right at any point in time.\n",
    "\n",
    "Example:\n",
    "\n",
    "Input:\n",
    "[\n",
    "  [1,3,1],\n",
    "  [1,5,1],\n",
    "  [4,2,1]\n",
    "]\n",
    "Output: 7\n",
    "Explanation: Because the path 1→3→1→1→1 minimizes the sum.\n",
    "\n",
    "Input:\n",
    "[\n",
    "  [1,3,1,2],\n",
    "  [1,5,1,1],\n",
    "  [4,2,1,4]\n",
    "]\n",
    "Output: 7\n",
    "Explanation: Because the path 1→3→1→1→1 minimizes the sum."
   ]
  },
  {
   "cell_type": "code",
   "execution_count": 31,
   "metadata": {},
   "outputs": [
    {
     "name": "stdout",
     "output_type": "stream",
     "text": [
      "1\n",
      "3\n",
      "1\n",
      "1\n",
      "5\n",
      "1\n",
      "4\n",
      "2\n",
      "1\n"
     ]
    }
   ],
   "source": [
    "s = Solution().minPathSum([\n",
    "  [1,3,1],\n",
    "  [1,5,1],\n",
    "  [4,2,1]\n",
    "])"
   ]
  },
  {
   "cell_type": "code",
   "execution_count": 21,
   "metadata": {},
   "outputs": [],
   "source": [
    "from typing import List\n",
    "\n",
    "class Solution:\n",
    "    def minPathSum(self, grid: List[List[int]]) -> int:\n",
    "#         res = [-1] * len(grid)\n",
    "#         a = array(grid)\n",
    "# #         print(a[:,1:len(a[0])])\n",
    "# #         print(a[1:,0:len(grid)])\n",
    "#         if len(a[0]) == 1 and len(a) == 1:\n",
    "#             return a[0][0]\n",
    "#         if res[len(a)] == -1:\n",
    "#             return a[0][0] + self.minPathSum(a[:,1:len(a[0])]) + self.minPathSum(a[1:,0:len(grid)])\n",
    "        m = len(grid)\n",
    "        n = len(grid[0])\n",
    "#         print(range(m-1))\n",
    "        for i in range(m):\n",
    "            for j in range(n):\n",
    "                if i == 0 and j == 0:\n",
    "                    continue\n",
    "                elif i == 0:\n",
    "                    grid[i][j] = grid[i][j-1] + grid[i][j]\n",
    "                elif j == 0:\n",
    "                    grid[i][j] =   grid[i-1][j] + grid[i][j]\n",
    "                else:\n",
    "                    grid[i][j] =  min(grid[i-1][j],  grid[i][j-1]) +  grid[i][j]\n",
    "        return grid[-1][-1]\n",
    "    \n"
   ]
  },
  {
   "cell_type": "code",
   "execution_count": 22,
   "metadata": {},
   "outputs": [],
   "source": [
    "s = Solution().minPathSum([\n",
    "  [1,3,1],\n",
    "  [1,5,1],\n",
    "  [4,2,1]\n",
    "])"
   ]
  },
  {
   "cell_type": "code",
   "execution_count": 23,
   "metadata": {},
   "outputs": [
    {
     "name": "stdout",
     "output_type": "stream",
     "text": [
      "7\n"
     ]
    }
   ],
   "source": [
    "print(s)"
   ]
  },
  {
   "cell_type": "raw",
   "metadata": {},
   "source": [
    "62. Unique Paths\n",
    "\n",
    "A robot is located at the top-left corner of a m x n grid (marked 'Start' in the diagram below).\n",
    "\n",
    "The robot can only move either down or right at any point in time. The robot is trying to reach the bottom-right corner of the grid (marked 'Finish' in the diagram below).\n",
    "\n",
    "How many possible unique paths are there?\n",
    "\n",
    "\n",
    "Above is a 7 x 3 grid. How many possible unique paths are there?\n",
    "\n",
    " \n",
    "\n",
    "Example 1:\n",
    "\n",
    "Input: m = 3, n = 2\n",
    "Output: 3\n",
    "Explanation:\n",
    "From the top-left corner, there are a total of 3 ways to reach the bottom-right corner:\n",
    "1. Right -> Right -> Down\n",
    "2. Right -> Down -> Right\n",
    "3. Down -> Right -> Right\n",
    "Example 2:\n",
    "\n",
    "Input: m = 7, n = 3\n",
    "Output: 28\n",
    " \n",
    "\n",
    "Constraints:\n",
    "\n",
    "1 <= m, n <= 100\n",
    "It's guaranteed that the answer will be less than or equal to 2 * 10 ^ 9."
   ]
  },
  {
   "cell_type": "code",
   "execution_count": 69,
   "metadata": {},
   "outputs": [],
   "source": [
    "class Solution:\n",
    "    # 递归实现-原始\n",
    "    def uniquePaths(self, m: int, n: int) -> int:\n",
    "        if m == 1 and n == 1:\n",
    "            return 1\n",
    "        if m == 1:\n",
    "            return 1\n",
    "        if n == 1:\n",
    "            return 1\n",
    "        return self.uniquePaths(m - 1, n) + self.uniquePaths(m, n - 1)"
   ]
  },
  {
   "cell_type": "code",
   "execution_count": 70,
   "metadata": {},
   "outputs": [],
   "source": [
    "s = Solution().uniquePaths(3, 3)"
   ]
  },
  {
   "cell_type": "code",
   "execution_count": 71,
   "metadata": {},
   "outputs": [
    {
     "name": "stdout",
     "output_type": "stream",
     "text": [
      "6\n"
     ]
    }
   ],
   "source": [
    "print(s)"
   ]
  },
  {
   "cell_type": "code",
   "execution_count": 88,
   "metadata": {},
   "outputs": [],
   "source": [
    "class Solution:\n",
    "    # 递归实现-记忆化搜索\n",
    "    def uniquePaths(self, m: int, n: int) -> int:\n",
    "        res = [-1] * m\n",
    "        if m == 1 and n == 1:\n",
    "            return 1\n",
    "        if m == 1:\n",
    "            return 1\n",
    "        if n == 1:\n",
    "            return 1\n",
    "        if res[m-1] == -1:\n",
    "            res[m - 1] = self.uniquePaths(m - 1, n) + self.uniquePaths(m, n - 1)\n",
    "        return res[m - 1]"
   ]
  },
  {
   "cell_type": "code",
   "execution_count": 138,
   "metadata": {},
   "outputs": [],
   "source": [
    "class Solution:\n",
    "    # 动态规划实现 1 快一点\n",
    "    def uniquePaths(self, m: int, n: int) -> int:\n",
    "        res= [[1 if i == 0 or j == 0 else 0 for i in range(n)] for j in range(m)]  \n",
    "        for i in range(1, m):\n",
    "            for j in range(1, n):\n",
    "                res[i][j] = res[i - 1][j] + res[i][j-1]\n",
    "        return res[-1][-1]"
   ]
  },
  {
   "cell_type": "code",
   "execution_count": 142,
   "metadata": {},
   "outputs": [],
   "source": [
    "s = Solution().uniquePaths(7, 3)"
   ]
  },
  {
   "cell_type": "code",
   "execution_count": 143,
   "metadata": {},
   "outputs": [
    {
     "name": "stdout",
     "output_type": "stream",
     "text": [
      "28\n"
     ]
    }
   ],
   "source": [
    "print(s)"
   ]
  },
  {
   "cell_type": "code",
   "execution_count": 141,
   "metadata": {},
   "outputs": [],
   "source": [
    "class Solution:\n",
    "    # 动态规划实现 2 慢一点\n",
    "    def uniquePaths(self, m: int, n: int) -> int:\n",
    "        res= [[0 for i in range(n)] for i in range(m)]   \n",
    "        for i in range(m):\n",
    "            for j in range(n):\n",
    "                if i == 0 or j == 0:\n",
    "                    res[i][j] = 1\n",
    "                else:\n",
    "                    res[i][j] = res[i - 1][j] + res[i][j-1]\n",
    "        return res[-1][-1]\n",
    "    "
   ]
  },
  {
   "cell_type": "raw",
   "metadata": {},
   "source": [
    "63. Unique Paths II\n",
    "\n",
    "A robot is located at the top-left corner of a m x n grid (marked 'Start' in the diagram below).\n",
    "\n",
    "The robot can only move either down or right at any point in time. The robot is trying to reach the bottom-right corner of the grid (marked 'Finish' in the diagram below).\n",
    "\n",
    "Now consider if some obstacles are added to the grids. How many unique paths would there be?\n",
    "\n",
    "\n",
    "\n",
    "An obstacle and empty space is marked as 1 and 0 respectively in the grid.\n",
    "\n",
    "Note: m and n will be at most 100.\n",
    "\n",
    "Example 1:\n",
    "\n",
    "Input:\n",
    "[\n",
    "  [0,0,0],\n",
    "  [0,1,0],\n",
    "  [0,0,0]\n",
    "]\n",
    "Output: 2\n",
    "Explanation:\n",
    "There is one obstacle in the middle of the 3x3 grid above.\n",
    "There are two ways to reach the bottom-right corner:\n",
    "1. Right -> Right -> Down -> Down\n",
    "2. Down -> Down -> Right -> Right"
   ]
  },
  {
   "cell_type": "code",
   "execution_count": 191,
   "metadata": {},
   "outputs": [],
   "source": [
    "from typing import List\n",
    "class Solution:\n",
    "    def uniquePathsWithObstacles(self, obstacleGrid: List[List[int]]) -> int:\n",
    "        m = len(obstacleGrid)\n",
    "        n = len(obstacleGrid[0])\n",
    "        res= [[0 for i in range(n)] for i in range(m)]  \n",
    "#         print(res)\n",
    "        for i in range(m):\n",
    "            for j in range(n):\n",
    "#                 print(i, j)\n",
    "                if (i == 0 and j == 0) and obstacleGrid[i][j] == 1:\n",
    "                    return 0\n",
    "                elif (i == 0 or j == 0) and obstacleGrid[i][j] == 1:\n",
    "                    continue\n",
    "                elif (i == 0 or j == 0) and obstacleGrid[i][j] == 0:\n",
    "                    res[i][j] = 1\n",
    "#                 print(i,j)\n",
    "                elif i > 0 and j > 0 and (obstacleGrid[i][j] == 0) :\n",
    "                    res[i][j] = res[i - 1][j] + res[i][j-1]\n",
    "#                     print('hhhh')\n",
    "# #         print(res)\n",
    "        return res[-1][-1]\n",
    "    "
   ]
  },
  {
   "cell_type": "code",
   "execution_count": 208,
   "metadata": {},
   "outputs": [],
   "source": [
    "class Solution:\n",
    "    def uniquePathsWithObstacles(self, obstacleGrid):\n",
    "        m = len(obstacleGrid)\n",
    "        n = len(obstacleGrid[0])\n",
    "        res = [[0 for i in range(n)] for i in range(m)]\n",
    "        print(res)\n",
    "        for i in range(m):\n",
    "            if obstacleGrid[i][0] == 1:\n",
    "                break\n",
    "            res[i][0] = 1\n",
    "        for i in range(n):\n",
    "            if obstacleGrid[0][i] == 1:\n",
    "                break\n",
    "            res[0][i] = 1\n",
    "        for i in range(1, m):\n",
    "            for j in range(1, n):\n",
    "                if obstacleGrid[i][j] == 0:\n",
    "                    res[i][j] = res[i-1][j] + res[i][j-1]\n",
    "        return res[-1][-1]"
   ]
  },
  {
   "cell_type": "code",
   "execution_count": null,
   "metadata": {},
   "outputs": [],
   "source": [
    "n = len(obstacleGrid)\n",
    "m = len(obstacleGrid[0])\n",
    "dp = [[0] * m for _ in range(n)]\n",
    "for i in range(n):\n",
    "    if obstacleGrid[i][0] == 1:\n",
    "        break\n",
    "    dp[i][0] = 1\n",
    "for i in range(m):\n",
    "    if obstacleGrid[0][i] == 1:\n",
    "        break\n",
    "    dp[0][i] = 1\n",
    "for i in range(1, n):\n",
    "    for j in range(1, m):\n",
    "        if obstacleGrid[i][j] == 0:\n",
    "            dp[i][j] = dp[i-1][j] + dp[i][j-1]\n",
    "return dp[n-1][m-1]"
   ]
  },
  {
   "cell_type": "code",
   "execution_count": 209,
   "metadata": {},
   "outputs": [
    {
     "name": "stdout",
     "output_type": "stream",
     "text": [
      "[[0, 0, 0], [0, 0, 0], [0, 0, 0]]\n",
      "2\n"
     ]
    }
   ],
   "source": [
    "s = Solution().uniquePathsWithObstacles([\n",
    "  [0,0,0],\n",
    "  [0,1,0],\n",
    "  [0,0,0]\n",
    "])\n",
    "print(s)"
   ]
  },
  {
   "cell_type": "code",
   "execution_count": 210,
   "metadata": {},
   "outputs": [
    {
     "name": "stdout",
     "output_type": "stream",
     "text": [
      "[[0, 0], [0, 0]]\n",
      "1\n"
     ]
    }
   ],
   "source": [
    "s1 = Solution().uniquePathsWithObstacles([[0,0],[1,0]])\n",
    "print(s1)"
   ]
  },
  {
   "cell_type": "code",
   "execution_count": 211,
   "metadata": {},
   "outputs": [
    {
     "name": "stdout",
     "output_type": "stream",
     "text": [
      "[[0, 0]]\n",
      "0\n"
     ]
    }
   ],
   "source": [
    "s2 = Solution().uniquePathsWithObstacles([[1,0]])\n",
    "print(s2)"
   ]
  },
  {
   "cell_type": "raw",
   "metadata": {},
   "source": [
    "198. House Robber\n",
    "\n",
    "You are a professional robber planning to rob houses along a street. Each house has a certain amount of money stashed, the only constraint stopping you from robbing each of them is that adjacent houses have security system connected and it will automatically contact the police if two adjacent houses were broken into on the same night.\n",
    "\n",
    "Given a list of non-negative integers representing the amount of money of each house, determine the maximum amount of money you can rob tonight without alerting the police.\n",
    "\n",
    " \n",
    "\n",
    "Example 1:\n",
    "\n",
    "Input: nums = [1,2,3,1]\n",
    "Output: 4\n",
    "Explanation: Rob house 1 (money = 1) and then rob house 3 (money = 3).\n",
    "             Total amount you can rob = 1 + 3 = 4.\n",
    "Example 2:\n",
    "\n",
    "Input: nums = [2,7,9,3,1]\n",
    "Output: 12\n",
    "Explanation: Rob house 1 (money = 2), rob house 3 (money = 9) and rob house 5 (money = 1).\n",
    "             Total amount you can rob = 2 + 9 + 1 = 12.\n",
    " \n",
    "\n",
    "Constraints:\n",
    "\n",
    "0 <= nums.length <= 100\n",
    "0 <= nums[i] <= 400"
   ]
  },
  {
   "cell_type": "code",
   "execution_count": 19,
   "metadata": {},
   "outputs": [],
   "source": [
    "from typing import List\n",
    "\n",
    "class Solution:\n",
    "    # 递归实现-原始\n",
    "    def rob(self, nums: List[int]) -> int:\n",
    "        print(nums[2:])\n",
    "        if len(nums) == 1:\n",
    "            return nums[0]\n",
    "        if len(nums) == 2:\n",
    "            return max(nums[0], nums[1])\n",
    "        if len(nums) == 3:\n",
    "            return max((nums[0] + nums[2]), nums[1])\n",
    "        return max(nums[0] + self.rob(nums[2:]), nums[1] + self.rob(nums[3:]))"
   ]
  },
  {
   "cell_type": "code",
   "execution_count": 57,
   "metadata": {},
   "outputs": [
    {
     "name": "stdout",
     "output_type": "stream",
     "text": [
      "4\n"
     ]
    }
   ],
   "source": [
    "s = Solution().rob([1,2,3,1])\n",
    "print(s)"
   ]
  },
  {
   "cell_type": "code",
   "execution_count": 58,
   "metadata": {},
   "outputs": [],
   "source": [
    "s1 = Solution().rob([2,7,9,3,1])"
   ]
  },
  {
   "cell_type": "code",
   "execution_count": 59,
   "metadata": {},
   "outputs": [
    {
     "name": "stdout",
     "output_type": "stream",
     "text": [
      "12\n"
     ]
    }
   ],
   "source": [
    "print(s1)"
   ]
  },
  {
   "cell_type": "code",
   "execution_count": 34,
   "metadata": {},
   "outputs": [],
   "source": [
    "class Solution:\n",
    "    # 递归实现-记忆化搜索\n",
    "    def rob(self, nums: List[int]) -> int:\n",
    "        res = [-1] * len(nums) \n",
    "        if len(nums) == 0:\n",
    "            return 0\n",
    "        if len(nums) == 1:\n",
    "            res[0] = nums[0]\n",
    "        if len(nums) == 2:\n",
    "            res[1] = max(nums[0], nums[1])\n",
    "        if len(nums) == 3:\n",
    "            res[2] = max((nums[0] + nums[2]), nums[1])\n",
    "        if res[len(nums) - 1] == -1:\n",
    "            res[len(nums) - 1] = max(nums[0] + self.rob(nums[2:]), nums[1] + self.rob(nums[3:]))\n",
    "        return res[-1]"
   ]
  },
  {
   "cell_type": "code",
   "execution_count": 56,
   "metadata": {},
   "outputs": [],
   "source": [
    "class Solution:\n",
    "    # dynamic programming\n",
    "    def rob(self, nums: List[int]) -> int:\n",
    "        if len(nums) == 0:\n",
    "            return 0\n",
    "        if len(nums) == 1:\n",
    "            return nums[0]\n",
    "        if len(nums) == 2:\n",
    "            return max(nums[0], nums[1])\n",
    "        if len(nums) == 3:\n",
    "            return max((nums[0] + nums[2]), nums[1])\n",
    "        res = [-1] * len(nums)\n",
    "        res[0] = nums[0]\n",
    "        res[1] = max(nums[0], nums[1])\n",
    "        res[2] = max((nums[0] + nums[2]), nums[1])\n",
    "        for i in range(3, len(nums)):\n",
    "            res[i] =  max(res[i - 2] + nums[i], res[i - 1])\n",
    "        return res[-1]"
   ]
  },
  {
   "cell_type": "code",
   "execution_count": 72,
   "metadata": {},
   "outputs": [],
   "source": [
    "class Solution:\n",
    "    # dynamic programming 最小情况可以更简化\n",
    "    def rob(self, nums: List[int]) -> int:\n",
    "        if len(nums) == 0:\n",
    "            return 0\n",
    "        if len(nums) == 1:\n",
    "            return nums[0]\n",
    "        if len(nums) == 2:\n",
    "            return max(nums[0], nums[1])\n",
    "        res = [-1] * len(nums)\n",
    "        res[0] = nums[0]\n",
    "        res[1] = max(nums[0], nums[1])\n",
    "        for i in range(2, len(nums)):\n",
    "            res[i] =  max(res[i - 2] + nums[i], res[i - 1])\n",
    "        return res[-1]"
   ]
  },
  {
   "cell_type": "raw",
   "metadata": {},
   "source": [
    "213. House Robber II\n",
    "\n",
    "You are a professional robber planning to rob houses along a street. Each house has a certain amount of money stashed. All houses at this place are arranged in a circle. That means the first house is the neighbor of the last one. Meanwhile, adjacent houses have security system connected and it will automatically contact the police if two adjacent houses were broken into on the same night.\n",
    "\n",
    "Given a list of non-negative integers representing the amount of money of each house, determine the maximum amount of money you can rob tonight without alerting the police.\n",
    "\n",
    "Example 1:\n",
    "\n",
    "Input: [2,3,2]\n",
    "Output: 3\n",
    "Explanation: You cannot rob house 1 (money = 2) and then rob house 3 (money = 2),\n",
    "             because they are adjacent houses.\n",
    "Example 2:\n",
    "\n",
    "Input: [1,2,3,1]\n",
    "Output: 4\n",
    "Explanation: Rob house 1 (money = 1) and then rob house 3 (money = 3).\n",
    "             Total amount you can rob = 1 + 3 = 4."
   ]
  },
  {
   "cell_type": "code",
   "execution_count": 91,
   "metadata": {},
   "outputs": [],
   "source": [
    "class Solution:\n",
    "    def rob(self, nums: List[int]) -> int:\n",
    "        if len(nums) == 0:\n",
    "            return 0\n",
    "        if len(nums) <= 2:\n",
    "            return max(nums)\n",
    "        return max(self.sub_rob(nums[1:]), self.sub_rob(nums[:-1]))\n",
    "    \n",
    "    def sub_rob(self, nums: List[int]) -> int:\n",
    "        if len(nums) == 0:\n",
    "            return 0\n",
    "        elif len(nums) <= 2:\n",
    "            return max(nums)\n",
    "        res = [0] * len(nums)\n",
    "        res[0] = nums[0]\n",
    "        res[1] = max(nums[0], nums[1])\n",
    "        for i in range(2, len(nums)):\n",
    "            res[i] =  max(res[i - 2] + nums[i], res[i - 1])\n",
    "        return res[-1]"
   ]
  },
  {
   "cell_type": "code",
   "execution_count": null,
   "metadata": {},
   "outputs": [],
   "source": [
    "class Solution:\n",
    "    def rob(self, nums: List[int]) -> int:\n",
    "        def sub_rob(nums):\n",
    "            if len(nums) == 0:\n",
    "                return 0\n",
    "            if len(nums) == 1:\n",
    "                return nums[0]\n",
    "            if len(nums) == 2:\n",
    "                return max(nums[0],nums[1])\n",
    "            dp = [0] *len(nums)\n",
    "            dp [0] = nums[0]\n",
    "            dp [1] = max(nums[0],nums[1])\n",
    "            for i in range(2,len(nums)):\n",
    "                dp[i] = max(dp[i-1],dp[i-2] + nums[i])\n",
    "            return dp[len(nums)-1]\n",
    "\n",
    "        if len(nums) == 0: \n",
    "            return 0\n",
    "        if len(nums) == 1: \n",
    "            return nums[0]\n",
    "        if len(nums) == 2:\n",
    "            return max(nums[0],nums[1])\n",
    "        return max(sub_rob(nums[1:]),sub_rob(nums[:-1]))\n",
    "\n"
   ]
  },
  {
   "cell_type": "code",
   "execution_count": 92,
   "metadata": {},
   "outputs": [
    {
     "name": "stdout",
     "output_type": "stream",
     "text": [
      "3\n"
     ]
    }
   ],
   "source": [
    "s = Solution().rob([2,3,2])\n",
    "print(s)"
   ]
  },
  {
   "cell_type": "code",
   "execution_count": 93,
   "metadata": {},
   "outputs": [
    {
     "name": "stdout",
     "output_type": "stream",
     "text": [
      "3\n"
     ]
    }
   ],
   "source": [
    "s1 = Solution().rob([1,2,3,1])\n",
    "print(s)"
   ]
  },
  {
   "cell_type": "code",
   "execution_count": 82,
   "metadata": {},
   "outputs": [
    {
     "name": "stdout",
     "output_type": "stream",
     "text": [
      "[1, 2, 3]\n"
     ]
    }
   ],
   "source": [
    "l = [1,2,3,1]\n",
    "print(l[:-1])"
   ]
  },
  {
   "cell_type": "code",
   "execution_count": 83,
   "metadata": {},
   "outputs": [
    {
     "name": "stdout",
     "output_type": "stream",
     "text": [
      "[2, 3, 1]\n"
     ]
    }
   ],
   "source": [
    "print(l[1:])"
   ]
  },
  {
   "cell_type": "raw",
   "metadata": {},
   "source": [
    "343. Integer Break\n",
    "\n",
    "Given a positive integer n, break it into the sum of at least two positive integers and maximize the product of those integers. Return the maximum product you can get.\n",
    "\n",
    "Example 1:\n",
    "\n",
    "Input: 2\n",
    "Output: 1\n",
    "Explanation: 2 = 1 + 1, 1 × 1 = 1.\n",
    "Example 2:\n",
    "\n",
    "Input: 10\n",
    "Output: 36\n",
    "Explanation: 10 = 3 + 3 + 4, 3 × 3 × 4 = 36.\n",
    "Note: You may assume that n is not less than 2 and not larger than 58."
   ]
  },
  {
   "cell_type": "code",
   "execution_count": null,
   "metadata": {},
   "outputs": [],
   "source": [
    "279"
   ]
  }
 ],
 "metadata": {
  "kernelspec": {
   "display_name": "Python 3",
   "language": "python",
   "name": "python3"
  },
  "language_info": {
   "codemirror_mode": {
    "name": "ipython",
    "version": 3
   },
   "file_extension": ".py",
   "mimetype": "text/x-python",
   "name": "python",
   "nbconvert_exporter": "python",
   "pygments_lexer": "ipython3",
   "version": "3.7.0"
  }
 },
 "nbformat": 4,
 "nbformat_minor": 2
}
