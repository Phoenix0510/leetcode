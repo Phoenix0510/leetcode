{
 "cells": [
  {
   "cell_type": "code",
   "execution_count": 4,
   "metadata": {},
   "outputs": [],
   "source": [
    "def selectSort(arr):\n",
    "    for i in range(len(arr) - 1):\n",
    "        minIndex = i\n",
    "        for j in range(i + 1, len(arr)):\n",
    "            if arr[minIndex] > arr[j]:\n",
    "                minIndex = j\n",
    "        \n",
    "        if i != minIndex:\n",
    "            arr[i], arr[minIndex] = arr[minIndex], arr[i]\n",
    "            \n",
    "    return arr\n"
   ]
  },
  {
   "cell_type": "code",
   "execution_count": 5,
   "metadata": {},
   "outputs": [],
   "source": [
    "def insertSort(arr):\n",
    "    for i in range(1, len(arr)):\n",
    "        for j in range(i+1):\n",
    "            if arr[i] < arr[j]:\n",
    "                arr[i], arr[j] = arr[j], arr[i]\n",
    "    return arr            \n",
    "\n",
    "def insertSort2(arr):\n",
    "    for i in range(1, len(arr)):\n",
    "        j = i\n",
    "        while j > 0 and arr[j] < arr[j - 1]:\n",
    "                arr[j], arr[j - 1] = arr[j - 1], arr[j]\n",
    "                j -= 1\n",
    "    return arr\n",
    "\n",
    "def insertSort3(arr):\n",
    "    for i in range(1, len(arr)):\n",
    "        j = i\n",
    "        current = arr[i]\n",
    "        while j > 0 and current < arr[j - 1]:\n",
    "                arr[j] = arr[j - 1]\n",
    "                j -= 1\n",
    "        arr[j] = current\n",
    "    return arr\n",
    "\n",
    "#  折半插入排序\n",
    "def insertSort4(arr):\n",
    "    for i in range(1, len(arr)):\n",
    "        j = i\n",
    "        cur = arr[i]\n",
    "        mid = j / 2\n",
    "        l = 0\n",
    "        r = i\n",
    "        while mid > 0 and cur < arr[mid]:\n",
    "             mid = "
   ]
  },
  {
   "cell_type": "code",
   "execution_count": 1,
   "metadata": {},
   "outputs": [],
   "source": [
    "def merge(arr, l, mid, r):\n",
    "    aux = [0]*(r-l+1)\n",
    "#     print(aux)\n",
    "#     print(len(aux))\n",
    "    for i in range(l, r+1):\n",
    "        aux[i-l] = arr[i]\n",
    "    i = l\n",
    "    j = mid + 1\n",
    "#     print(aux)\n",
    "    for k in range(l, r+1):\n",
    "        if i > mid:\n",
    "            arr[k] = aux[j - l]\n",
    "            j += 1\n",
    "        elif j > r:\n",
    "            arr[k] = aux[i - l]\n",
    "            i += 1\n",
    "        elif aux[i-l] < aux[j-l]:\n",
    "            arr[k] = aux[i-l]\n",
    "            i += 1\n",
    "        else:\n",
    "            arr[k] = aux[j-l]\n",
    "            j += 1\n",
    "            \n",
    "\n",
    "def __mergeSort(arr, l, r):\n",
    "    if l >= r:\n",
    "        return\n",
    "#     if  r - l <= 15:\n",
    "#         insertSort(arr, l, r)\n",
    "    mid = (r + l) // 2 \n",
    "    __mergeSort(arr, l, mid)\n",
    "    __mergeSort(arr, mid + 1, r)\n",
    "    if arr[mid] > arr[mid + 1]:\n",
    "        merge(arr, l, mid, r)\n",
    "    \n",
    "def mergeSort(arr):\n",
    "    __mergeSort(arr, 0, len(arr) - 1)\n",
    "\n",
    "# 自底向上实现 对链表进行排序 O(nlogn)\n",
    "def mergeSortBU(arr):\n",
    "    for "
   ]
  },
  {
   "cell_type": "code",
   "execution_count": 2,
   "metadata": {},
   "outputs": [
    {
     "name": "stdout",
     "output_type": "stream",
     "text": [
      "li pre: [55, 1, 2, 5, 8, 127, 65, 6, 99, 90, 700, 222]\n",
      "\n",
      "li merge sort after: [1, 2, 5, 6, 8, 55, 65, 90, 99, 127, 222, 700]\n",
      "\n"
     ]
    }
   ],
   "source": [
    "if __name__ == '__main__':\n",
    "    li = [55,1,2,5,8,127,65,6,99,90,700,222]\n",
    "    print(f'li pre: {li}\\n')\n",
    "    \n",
    "#     selectSort(li)\n",
    "#     print(f'li select sort after: {li}\\n')\n",
    "    \n",
    "#     insertSort2(li)\n",
    "#     print(f'li insert sort after: {li}\\n')\n",
    "\n",
    "#     insertSort3(li)\n",
    "#     print(f'li insert sort after: {li}\\n')\n",
    "\n",
    "    mergeSort(li)\n",
    "    print(f'li merge sort after: {li}\\n')"
   ]
  },
  {
   "cell_type": "code",
   "execution_count": 33,
   "metadata": {},
   "outputs": [],
   "source": [
    "# Shell Sort\n",
    "# Bubble sort"
   ]
  },
  {
   "cell_type": "code",
   "execution_count": 22,
   "metadata": {},
   "outputs": [
    {
     "name": "stdout",
     "output_type": "stream",
     "text": [
      "25\n"
     ]
    }
   ],
   "source": [
    "print((9+42)//2)"
   ]
  },
  {
   "cell_type": "code",
   "execution_count": 1,
   "metadata": {},
   "outputs": [
    {
     "name": "stdout",
     "output_type": "stream",
     "text": [
      "0.9900112280735722\n",
      "5\n"
     ]
    }
   ],
   "source": [
    "import random\n",
    "print(random.random())\n",
    "print(random.randint(0,10))\n"
   ]
  },
  {
   "cell_type": "code",
   "execution_count": 91,
   "metadata": {},
   "outputs": [],
   "source": [
    "# Quick Sort\n",
    "# partition\n",
    "\n",
    "def quickSort(arr):\n",
    "    \n",
    "    __quickSort(arr, 0, len(arr) - 1)\n",
    "    \n",
    "def __quickSort(arr, l, r):\n",
    "    if l >= r:\n",
    "        return \n",
    "    p = __partition(arr, l, r)\n",
    "   \n",
    "    __quickSort(arr, l, p-1)\n",
    "    __quickSort(arr, p+1, r)\n",
    "    \n",
    "def __partition(arr, l, r):\n",
    "    t = random.randint(l,r)\n",
    "    arr[l], arr[t] = arr[t], arr[l]\n",
    "   \n",
    "    v = arr[l]\n",
    "    \n",
    "    j = l\n",
    "#     print(j)\n",
    "    for i in range(l+1, r + 1):\n",
    "            if arr[i] < v:\n",
    "                arr[i], arr[j + 1] = arr[j + 1], arr[i]\n",
    "                j += 1\n",
    "                \n",
    "    arr[l], arr[j] = arr[j], arr[l]\n",
    "    \n",
    "    return j\n",
    "            "
   ]
  },
  {
   "cell_type": "code",
   "execution_count": 92,
   "metadata": {},
   "outputs": [
    {
     "name": "stdout",
     "output_type": "stream",
     "text": [
      "li pre: [55, 1, 2, 5, 8, 127, 65, 6, 99, 90, 700, 222]\n",
      "\n",
      "li quick sort after: [1, 2, 5, 6, 8, 55, 65, 90, 99, 127, 222, 700]\n",
      "\n"
     ]
    }
   ],
   "source": [
    "li = [55,1,2,5,8,127,65,6,99,90,700,222]\n",
    "print(f'li pre: {li}\\n')\n",
    "\n",
    "quickSort(li)\n",
    "print(f'li quick sort after: {li}\\n')\n"
   ]
  },
  {
   "cell_type": "code",
   "execution_count": 99,
   "metadata": {},
   "outputs": [],
   "source": [
    "def quickSort2(arr):\n",
    "    __quickSort2(arr, 0, len(arr) - 1)\n",
    "    \n",
    "def __quickSort2(arr, l, r):\n",
    "    if l >= r:\n",
    "        return\n",
    "    \n",
    "    p = __partition2(arr, l, r)\n",
    "    __quickSort2(arr, l, p - 1)\n",
    "    __quickSort2(arr, p + 1, r)\n",
    "    \n",
    "def __partition2(arr, l, r):\n",
    "    t = random.randint(l, r)\n",
    "    arr[l], arr[t] = arr[t], arr[l]\n",
    "    \n",
    "    v = arr[l]\n",
    "    j = r\n",
    "    i = l + 1\n",
    "    while True:\n",
    "        if i > j:\n",
    "            break\n",
    "        while i <= r and arr[i] < v:\n",
    "            i += 1\n",
    "        while j >= l + 1 and arr[j] > v:\n",
    "            j -= 1\n",
    "        \n",
    "        while arr[i] > v and arr[j-1] < v:\n",
    "            arr[i], arr[j] = arr[j], arr[i]\n",
    "            j -= 1\n",
    "            i += 1\n",
    "      \n",
    "    arr[l], arr[j] = arr[j], arr[l]\n",
    "    return j\n",
    "            "
   ]
  },
  {
   "cell_type": "code",
   "execution_count": 15,
   "metadata": {},
   "outputs": [],
   "source": [
    "# 三路快排\n",
    "\n",
    "def quickSort3(arr):\n",
    "    __quickSort3(arr, 0, len(arr) - 1)\n",
    "    \n",
    "def __quickSort3(arr, l, r):\n",
    "    if l >= r:\n",
    "        return\n",
    "    \n",
    "    t = random.randint(l, r)\n",
    "    arr[l], arr[t] = arr[t], arr[l]\n",
    "    v = arr[l]\n",
    "    \n",
    "    lt = l \n",
    "    gt = r + 1\n",
    "    i = l + 1\n",
    "    \n",
    "    while i < gt:\n",
    "        if arr[i] < v:\n",
    "            arr[i], arr[lt + 1], arr[lt + 1], arr[i]\n",
    "            lt += 1\n",
    "            i += 1\n",
    "        elif arr[i] > v:\n",
    "            arr[i], arr[gt - 1] = arr[gt - 1], arr[i]\n",
    "            gt -= 1\n",
    "        else:\n",
    "            i += 1\n",
    "    arr[l], arr[lt] = arr[lt], arr[l]\n",
    "    \n",
    "    __quickSort3(arr, l, lt - 1)\n",
    "    __quickSort3(arr, gt, r)\n",
    "        \n",
    "        "
   ]
  },
  {
   "cell_type": "code",
   "execution_count": 16,
   "metadata": {},
   "outputs": [
    {
     "name": "stdout",
     "output_type": "stream",
     "text": [
      "li pre: [55, 1, 2, 5, 8, 127, 65, 6, 99, 90, 700, 222]\n",
      "\n",
      "li quick sort after: [1, 2, 5, 6, 8, 55, 65, 90, 99, 127, 222, 700]\n",
      "\n"
     ]
    }
   ],
   "source": [
    "li = [55,1,2,5,8,127,65,6,99,90,700,222]\n",
    "print(f'li pre: {li}\\n')\n",
    "\n",
    "quickSort3(li)\n",
    "print(f'li quick sort after: {li}\\n')\n"
   ]
  },
  {
   "cell_type": "code",
   "execution_count": null,
   "metadata": {},
   "outputs": [],
   "source": [
    "# 逆序对 O（nlogn） 归并排序\n",
    "# 取出数组中第n大的元素 取数组中最大值最小值 quick sort的思路求数组中"
   ]
  }
 ],
 "metadata": {
  "kernelspec": {
   "display_name": "Python 3",
   "language": "python",
   "name": "python3"
  },
  "language_info": {
   "codemirror_mode": {
    "name": "ipython",
    "version": 3
   },
   "file_extension": ".py",
   "mimetype": "text/x-python",
   "name": "python",
   "nbconvert_exporter": "python",
   "pygments_lexer": "ipython3",
   "version": "3.7.0"
  }
 },
 "nbformat": 4,
 "nbformat_minor": 4
}
